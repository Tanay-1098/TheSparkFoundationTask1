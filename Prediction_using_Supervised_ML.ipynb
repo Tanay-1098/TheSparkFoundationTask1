{
  "nbformat": 4,
  "nbformat_minor": 0,
  "metadata": {
    "colab": {
      "name": "Prediction using Supervised ML",
      "provenance": [],
      "collapsed_sections": [
        "vWO87Z4Xfbmw"
      ]
    },
    "kernelspec": {
      "name": "python3",
      "display_name": "Python 3"
    }
  },
  "cells": [
    {
      "cell_type": "markdown",
      "metadata": {
        "id": "vWO87Z4Xfbmw"
      },
      "source": [
        "### **Prediction using Supervised ML (Simple Linear Regression):**\n",
        "**-Tanay Sawant**\n"
      ]
    },
    {
      "cell_type": "markdown",
      "metadata": {
        "id": "-IfjGQfqWgKj"
      },
      "source": [
        "### **Required Libraries:** "
      ]
    },
    {
      "cell_type": "code",
      "metadata": {
        "id": "Xr29UqqvEGRp"
      },
      "source": [
        "import pandas as pd\n",
        "import numpy as np\n",
        "from sklearn.linear_model import LinearRegression\n",
        "from sklearn import metrics\n",
        "from matplotlib import pyplot as plt\n",
        "from sklearn.model_selection import train_test_split  \n"
      ],
      "execution_count": 2,
      "outputs": []
    },
    {
      "cell_type": "markdown",
      "metadata": {
        "id": "4DP6o82cWYzT"
      },
      "source": [
        "### **Importing the dataset:**"
      ]
    },
    {
      "cell_type": "code",
      "metadata": {
        "id": "xzPfXePxGNfu",
        "outputId": "f708a964-e9cb-4744-f27d-08d4420a3dea",
        "colab": {
          "base_uri": "https://localhost:8080/",
          "height": 195
        }
      },
      "source": [
        "dat=pd.read_csv(\"StudyHours.csv\")\n",
        "dat.head()"
      ],
      "execution_count": 19,
      "outputs": [
        {
          "output_type": "execute_result",
          "data": {
            "text/html": [
              "<div>\n",
              "<style scoped>\n",
              "    .dataframe tbody tr th:only-of-type {\n",
              "        vertical-align: middle;\n",
              "    }\n",
              "\n",
              "    .dataframe tbody tr th {\n",
              "        vertical-align: top;\n",
              "    }\n",
              "\n",
              "    .dataframe thead th {\n",
              "        text-align: right;\n",
              "    }\n",
              "</style>\n",
              "<table border=\"1\" class=\"dataframe\">\n",
              "  <thead>\n",
              "    <tr style=\"text-align: right;\">\n",
              "      <th></th>\n",
              "      <th>Hours</th>\n",
              "      <th>Scores</th>\n",
              "    </tr>\n",
              "  </thead>\n",
              "  <tbody>\n",
              "    <tr>\n",
              "      <th>0</th>\n",
              "      <td>2.5</td>\n",
              "      <td>21</td>\n",
              "    </tr>\n",
              "    <tr>\n",
              "      <th>1</th>\n",
              "      <td>5.1</td>\n",
              "      <td>47</td>\n",
              "    </tr>\n",
              "    <tr>\n",
              "      <th>2</th>\n",
              "      <td>3.2</td>\n",
              "      <td>27</td>\n",
              "    </tr>\n",
              "    <tr>\n",
              "      <th>3</th>\n",
              "      <td>8.5</td>\n",
              "      <td>75</td>\n",
              "    </tr>\n",
              "    <tr>\n",
              "      <th>4</th>\n",
              "      <td>3.5</td>\n",
              "      <td>30</td>\n",
              "    </tr>\n",
              "  </tbody>\n",
              "</table>\n",
              "</div>"
            ],
            "text/plain": [
              "   Hours  Scores\n",
              "0    2.5      21\n",
              "1    5.1      47\n",
              "2    3.2      27\n",
              "3    8.5      75\n",
              "4    3.5      30"
            ]
          },
          "metadata": {
            "tags": []
          },
          "execution_count": 19
        }
      ]
    },
    {
      "cell_type": "markdown",
      "metadata": {
        "id": "pWGwVDGeVapE"
      },
      "source": [
        "### **Data Plotting:**\n",
        "\n",
        "Plotting the given data to see if any linear relationship exists between the number of hours studied by the student and their corresponding score achieved."
      ]
    },
    {
      "cell_type": "code",
      "metadata": {
        "id": "orwE9klPGg7P",
        "outputId": "08b7f10b-8bf9-4844-b738-502144eb6ecd",
        "colab": {
          "base_uri": "https://localhost:8080/",
          "height": 295
        }
      },
      "source": [
        "# Plot for checking correlation.\n",
        "\n",
        "plt.scatter(dat[\"Hours\"], dat[\"Scores\"],label=\"Scores\")\n",
        "plt.title('Hours vs Percentage Score')\n",
        "plt.xlabel('Number of Hours Studied')  \n",
        "plt.ylabel('Score in Percent')  \n",
        "plt.legend(loc=0)\n",
        "plt.show()\n"
      ],
      "execution_count": 20,
      "outputs": [
        {
          "output_type": "display_data",
          "data": {
            "image/png": "[encoded data removed]",
            "text/plain": [
              "<Figure size 432x288 with 1 Axes>"
            ]
          },
          "metadata": {
            "tags": [],
            "needs_background": "light"
          }
        }
      ]
    },
    {
      "cell_type": "markdown",
      "metadata": {
        "id": "yoVZDo8DVu9j"
      },
      "source": [
        "From the above scatterplot, we can clearly see that there exists a linear relationship in the data. Hence we go ahead with the linear regression model for prediction."
      ]
    },
    {
      "cell_type": "markdown",
      "metadata": {
        "id": "A_8dLV_gWxpy"
      },
      "source": [
        "### **Data Preparation:**\n",
        "Preparing the data for model training."
      ]
    },
    {
      "cell_type": "code",
      "metadata": {
        "id": "yjgMpE-dK76S"
      },
      "source": [
        "x = dat.iloc[:, :-1].values  \n",
        "y = dat.iloc[:, 1].values "
      ],
      "execution_count": 21,
      "outputs": []
    },
    {
      "cell_type": "markdown",
      "metadata": {
        "id": "KGzXF8aLW7O1"
      },
      "source": [
        "With the help of sci-kit learn's train_test_split built in function, we split the data into training and testing datasets with the split ratio of 80:20 (80% for training and 20% for testing). We keep the random state value as 1234."
      ]
    },
    {
      "cell_type": "code",
      "metadata": {
        "id": "jlTb83mDK1gL"
      },
      "source": [
        "# Splitting the data into training and test set.\n",
        "x_train, x_test, y_train, y_test = train_test_split(x, y, \n",
        "                            test_size=0.2, random_state=123) "
      ],
      "execution_count": 22,
      "outputs": []
    },
    {
      "cell_type": "markdown",
      "metadata": {
        "id": "jv_EsuAaYbyU"
      },
      "source": [
        "### **Model Training and Fitting:**\n",
        "\n",
        "We fit the model using the built in LinearRegression function form sklearn to train our model for model prediction."
      ]
    },
    {
      "cell_type": "code",
      "metadata": {
        "id": "_OFFHYdmLszn",
        "outputId": "594567f6-0922-4163-9322-45fd4ce2c2a0",
        "colab": {
          "base_uri": "https://localhost:8080/",
          "height": 34
        }
      },
      "source": [
        "# Fitting a linear regression model.\n",
        "model= LinearRegression()  \n",
        "model.fit(x_train, y_train) "
      ],
      "execution_count": 23,
      "outputs": [
        {
          "output_type": "execute_result",
          "data": {
            "text/plain": [
              "LinearRegression(copy_X=True, fit_intercept=True, n_jobs=None, normalize=False)"
            ]
          },
          "metadata": {
            "tags": []
          },
          "execution_count": 23
        }
      ]
    },
    {
      "cell_type": "markdown",
      "metadata": {
        "id": "a6GQvFs6Y75N"
      },
      "source": [
        "### **Fitted Model Plotting:**"
      ]
    },
    {
      "cell_type": "code",
      "metadata": {
        "id": "QOfcxq6RMGZs",
        "outputId": "edb33342-236e-46b8-a3de-e3bc0cc70daf",
        "colab": {
          "base_uri": "https://localhost:8080/",
          "height": 295
        }
      },
      "source": [
        "# Plotting the fitted model line.\n",
        "fitted_model = model.coef_*x + model.intercept_\n",
        "plt.scatter(x, y,label=\"Scores\")\n",
        "plt.plot(x, fitted_model,label=\"Fitted Line\",c=\"black\");\n",
        "plt.title(\"Fitted Model Plot\")\n",
        "plt.xlabel('Number of Hours Studied')  \n",
        "plt.ylabel('Scores in Percent')  \n",
        "plt.legend(loc=0)\n",
        "plt.show()"
      ],
      "execution_count": 24,
      "outputs": [
        {
          "output_type": "display_data",
          "data": {
            "image/png": "[encoded data removed]",
            "text/plain": [
              "<Figure size 432x288 with 1 Axes>"
            ]
          },
          "metadata": {
            "tags": [],
            "needs_background": "light"
          }
        }
      ]
    },
    {
      "cell_type": "markdown",
      "metadata": {
        "id": "z7vC3YENZDt4"
      },
      "source": [
        "From the above plot, it is clear that our model is giving a proper fit with linear regression. "
      ]
    },
    {
      "cell_type": "markdown",
      "metadata": {
        "id": "4lhPdgFKZdBf"
      },
      "source": [
        "### **Prediction using Trained Model:**\n",
        "Now that we have trained the model, we use that trained model to use for predicting some of the values using the test set."
      ]
    },
    {
      "cell_type": "code",
      "metadata": {
        "id": "l8a54MEdNDyy"
      },
      "source": [
        "# Prediction on the test set.\n",
        "y_pred = model.predict(x_test)"
      ],
      "execution_count": 25,
      "outputs": []
    },
    {
      "cell_type": "markdown",
      "metadata": {
        "id": "32ghN95MaTXJ"
      },
      "source": [
        "### **Actual v/s Predicted:**"
      ]
    },
    {
      "cell_type": "code",
      "metadata": {
        "id": "bPxtGVGzOmOK",
        "outputId": "ef51e25a-9afe-4f9e-bcac-2da756b332ce",
        "colab": {
          "base_uri": "https://localhost:8080/",
          "height": 118
        }
      },
      "source": [
        "# Comparison between the Actual scores and the Predicted scores.\n",
        "df = pd.DataFrame({'Actual Scores': y_test, 'Predicted Scores':y_pred})  \n",
        "print(df)"
      ],
      "execution_count": 26,
      "outputs": [
        {
          "output_type": "stream",
          "text": [
            "   Actual Scores  Predicted Scores\n",
            "0             20         17.097967\n",
            "1             54         48.783639\n",
            "2             35         39.181920\n",
            "3             67         61.265873\n",
            "4             95         88.150686\n"
          ],
          "name": "stdout"
        }
      ]
    },
    {
      "cell_type": "markdown",
      "metadata": {
        "id": "vTGbhq7Uai_Z"
      },
      "source": [
        "From the above dataframe, it is clearly visible that the predicted scores are somewhat similar to the actual scores of the students.\n",
        "This ensures that our model is giving us good predicted scores."
      ]
    },
    {
      "cell_type": "markdown",
      "metadata": {
        "id": "nUvmNGX4b9zt"
      },
      "source": [
        "### **What is the prediction when Study Hours is 9.25?**"
      ]
    },
    {
      "cell_type": "code",
      "metadata": {
        "id": "etTQuzjTQCLR",
        "outputId": "6299023b-a3a9-4d12-d50e-02c6e3102720",
        "colab": {
          "base_uri": "https://localhost:8080/",
          "height": 34
        }
      },
      "source": [
        "# Prediction of the score for the given study hours.\n",
        "val=pd.Series(9.25)\n",
        "pred_val=model.predict(val.values.reshape(1,-1))\n",
        "print(\"The Predicted Score of a student when the student studies for 9.25 hours is {0}\".format(round(pred_val[0],2)))"
      ],
      "execution_count": 27,
      "outputs": [
        {
          "output_type": "stream",
          "text": [
            "The Predicted Score of a student when the student studies for 9.25 hours is 91.51\n"
          ],
          "name": "stdout"
        }
      ]
    },
    {
      "cell_type": "markdown",
      "metadata": {
        "id": "7BUQlhuedokW"
      },
      "source": [
        "### **Model Evaluation:**"
      ]
    },
    {
      "cell_type": "code",
      "metadata": {
        "id": "3e1s2htdOaM4",
        "outputId": "4f37c9ff-da09-4115-fdd2-477595454c5d",
        "colab": {
          "base_uri": "https://localhost:8080/",
          "height": 34
        }
      },
      "source": [
        "# Evaluating the model.\n",
        "print(\"Adjusted R Square:\",\n",
        "      metrics.r2_score(y_test,y_pred)) "
      ],
      "execution_count": 28,
      "outputs": [
        {
          "output_type": "stream",
          "text": [
            "Adjusted R Square: 0.9605221627526418\n"
          ],
          "name": "stdout"
        }
      ]
    },
    {
      "cell_type": "markdown",
      "metadata": {
        "id": "jvk_IcayemOn"
      },
      "source": [
        "With the above metrics we use them to evaluate how our model is performing. \n",
        "From the Adjusted R Square value, we can say that our model is explaining approximately 96% variation in the data. We know that the closer this value is to 100, the accurate the model is performing. Hence, we can say that our model is giving good results."
      ]
    }
  ]
}